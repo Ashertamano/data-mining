{
 "cells": [
  {
   "cell_type": "code",
   "execution_count": 8,
   "id": "45d5c4cb",
   "metadata": {},
   "outputs": [],
   "source": [
    "import urllib\n",
    "import json\n",
    "import requests\n",
    "import pandas as pd"
   ]
  },
  {
   "cell_type": "code",
   "execution_count": 4,
   "id": "843a3443",
   "metadata": {},
   "outputs": [
    {
     "data": {
      "text/plain": [
       "['Istanbul', 'Amsterdam', 'Valletta', 'Basel', 'Doha']"
      ]
     },
     "execution_count": 4,
     "metadata": {},
     "output_type": "execute_result"
    }
   ],
   "source": [
    "cities=[]\n",
    "with open('dests.txt') as f:\n",
    "    for i in f:\n",
    "        cities.append(i.rstrip())\n",
    "cities       \n"
   ]
  },
  {
   "cell_type": "code",
   "execution_count": 5,
   "id": "9e30a9ec",
   "metadata": {},
   "outputs": [],
   "source": [
    "yours_key ='put yours key here'\n",
    "data=[]\n",
    "for city in cities:\n",
    "    Serviceurl ='https://maps.googleapis.com/maps/api/distancematrix/json?'\n",
    "    parms = dict() \n",
    "    parms['origins']='Tel Aviv'\n",
    "    parms['destinations'] =city\n",
    "    parms['key'] = yours_key\n",
    "    url = Serviceurl + urllib.parse.urlencode(parms)\n",
    "    response=requests.get(url).json()\n",
    "    distance=response['rows'][0]['elements'][0]['distance']['value']/1000\n",
    "    Duration=response['rows'][0]['elements'][0]['duration']['text']\n",
    "    url_2=\"https://maps.googleapis.com/maps/api/geocode/json?address=%s&key=%s\" % (city,yours_key)\n",
    "    response_2=requests.get(url_2).json() \n",
    "    lat=response_2['results'][0]['geometry']['bounds']['northeast']['lat']\n",
    "    lng=response_2['results'][0]['geometry']['bounds']['northeast']['lng']\n",
    "    data.append([city,distance,Duration,lat, lng])"
   ]
  },
  {
   "cell_type": "code",
   "execution_count": 9,
   "id": "9ada7e12",
   "metadata": {},
   "outputs": [
    {
     "data": {
      "text/html": [
       "<div>\n",
       "<style scoped>\n",
       "    .dataframe tbody tr th:only-of-type {\n",
       "        vertical-align: middle;\n",
       "    }\n",
       "\n",
       "    .dataframe tbody tr th {\n",
       "        vertical-align: top;\n",
       "    }\n",
       "\n",
       "    .dataframe thead th {\n",
       "        text-align: right;\n",
       "    }\n",
       "</style>\n",
       "<table border=\"1\" class=\"dataframe\">\n",
       "  <thead>\n",
       "    <tr style=\"text-align: right;\">\n",
       "      <th></th>\n",
       "      <th>City</th>\n",
       "      <th>Distance to Tel Aviv (km)</th>\n",
       "      <th>Duration</th>\n",
       "      <th>Latitude</th>\n",
       "      <th>Longitude</th>\n",
       "    </tr>\n",
       "  </thead>\n",
       "  <tbody>\n",
       "    <tr>\n",
       "      <th>0</th>\n",
       "      <td>Istanbul</td>\n",
       "      <td>1815.227</td>\n",
       "      <td>21 hours 3 mins</td>\n",
       "      <td>41.199239</td>\n",
       "      <td>29.428805</td>\n",
       "    </tr>\n",
       "    <tr>\n",
       "      <th>1</th>\n",
       "      <td>Amsterdam</td>\n",
       "      <td>4532.541</td>\n",
       "      <td>2 days 0 hours</td>\n",
       "      <td>52.431157</td>\n",
       "      <td>5.108020</td>\n",
       "    </tr>\n",
       "    <tr>\n",
       "      <th>2</th>\n",
       "      <td>Valletta</td>\n",
       "      <td>3792.883</td>\n",
       "      <td>2 days 3 hours</td>\n",
       "      <td>35.903686</td>\n",
       "      <td>14.520482</td>\n",
       "    </tr>\n",
       "    <tr>\n",
       "      <th>3</th>\n",
       "      <td>Basel</td>\n",
       "      <td>4092.805</td>\n",
       "      <td>1 day 20 hours</td>\n",
       "      <td>47.589902</td>\n",
       "      <td>7.634148</td>\n",
       "    </tr>\n",
       "    <tr>\n",
       "      <th>4</th>\n",
       "      <td>Doha</td>\n",
       "      <td>2164.477</td>\n",
       "      <td>22 hours 39 mins</td>\n",
       "      <td>25.412578</td>\n",
       "      <td>51.628121</td>\n",
       "    </tr>\n",
       "  </tbody>\n",
       "</table>\n",
       "</div>"
      ],
      "text/plain": [
       "        City  Distance to Tel Aviv (km)          Duration   Latitude  \\\n",
       "0   Istanbul                   1815.227   21 hours 3 mins  41.199239   \n",
       "1  Amsterdam                   4532.541    2 days 0 hours  52.431157   \n",
       "2   Valletta                   3792.883    2 days 3 hours  35.903686   \n",
       "3      Basel                   4092.805    1 day 20 hours  47.589902   \n",
       "4       Doha                   2164.477  22 hours 39 mins  25.412578   \n",
       "\n",
       "   Longitude  \n",
       "0  29.428805  \n",
       "1   5.108020  \n",
       "2  14.520482  \n",
       "3   7.634148  \n",
       "4  51.628121  "
      ]
     },
     "execution_count": 9,
     "metadata": {},
     "output_type": "execute_result"
    }
   ],
   "source": [
    "df=pd.DataFrame(data, columns=['City', 'Distance to Tel Aviv (km)','Duration', 'Latitude', 'Longitude'])\n",
    "df"
   ]
  },
  {
   "cell_type": "code",
   "execution_count": 20,
   "id": "a2343cbd",
   "metadata": {},
   "outputs": [
    {
     "data": {
      "text/html": [
       "<div>\n",
       "<style scoped>\n",
       "    .dataframe tbody tr th:only-of-type {\n",
       "        vertical-align: middle;\n",
       "    }\n",
       "\n",
       "    .dataframe tbody tr th {\n",
       "        vertical-align: top;\n",
       "    }\n",
       "\n",
       "    .dataframe thead th {\n",
       "        text-align: right;\n",
       "    }\n",
       "</style>\n",
       "<table border=\"1\" class=\"dataframe\">\n",
       "  <thead>\n",
       "    <tr style=\"text-align: right;\">\n",
       "      <th></th>\n",
       "      <th>City</th>\n",
       "    </tr>\n",
       "  </thead>\n",
       "  <tbody>\n",
       "    <tr>\n",
       "      <th>1</th>\n",
       "      <td>Amsterdam</td>\n",
       "    </tr>\n",
       "    <tr>\n",
       "      <th>2</th>\n",
       "      <td>Valletta</td>\n",
       "    </tr>\n",
       "    <tr>\n",
       "      <th>3</th>\n",
       "      <td>Basel</td>\n",
       "    </tr>\n",
       "  </tbody>\n",
       "</table>\n",
       "</div>"
      ],
      "text/plain": [
       "        City\n",
       "1  Amsterdam\n",
       "2   Valletta\n",
       "3      Basel"
      ]
     },
     "execution_count": 20,
     "metadata": {},
     "output_type": "execute_result"
    }
   ],
   "source": [
    "df.loc[[1,2,3],['City']]"
   ]
  }
 ],
 "metadata": {
  "kernelspec": {
   "display_name": "Python 3 (ipykernel)",
   "language": "python",
   "name": "python3"
  },
  "language_info": {
   "codemirror_mode": {
    "name": "ipython",
    "version": 3
   },
   "file_extension": ".py",
   "mimetype": "text/x-python",
   "name": "python",
   "nbconvert_exporter": "python",
   "pygments_lexer": "ipython3",
   "version": "3.9.7"
  }
 },
 "nbformat": 4,
 "nbformat_minor": 5
}
